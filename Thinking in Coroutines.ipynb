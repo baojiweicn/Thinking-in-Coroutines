{
 "cells": [
  {
   "cell_type": "markdown",
   "metadata": {},
   "source": [
    "# Thinking in Coroutines"
   ]
  },
  {
   "cell_type": "markdown",
   "metadata": {},
   "source": [
    "![image](https://raw.githubusercontent.com/baojiweicn/Thinking-in-Coroutines/master/imgs/coroutines_example.png)"
   ]
  },
  {
   "cell_type": "markdown",
   "metadata": {},
   "source": [
    "![image](https://raw.githubusercontent.com/baojiweicn/Thinking-in-Coroutines/master/imgs/thread_example.png)"
   ]
  },
  {
   "cell_type": "code",
   "execution_count": null,
   "metadata": {},
   "outputs": [],
   "source": [
    "import asyncio\n",
    "\n",
    "if __name__ == '__main__':\n",
    "    loop = asyncio.get_event_loop()\n",
    "    loop.runforever()"
   ]
  },
  {
   "cell_type": "markdown",
   "metadata": {},
   "source": [
    "# More Example"
   ]
  },
  {
   "cell_type": "code",
   "execution_count": null,
   "metadata": {},
   "outputs": [],
   "source": [
    "import asyncio\n",
    "import datetime\n",
    "\n",
    "\n",
    "def anything(i):\n",
    "    print(i, datetime.datetime.now())\n",
    "\n",
    "\n",
    "if __name__ == '__main__':\n",
    "    loop = asyncio.get_event_loop()\n",
    "    loop.call_later(2, loop.stop)\n",
    "    for i in range(1, 4):\n",
    "        loop.call_soon(anything, i)\n",
    "    try:\n",
    "        loop.run_forever()\n",
    "    finally:\n",
    "        loop.close()"
   ]
  },
  {
   "cell_type": "markdown",
   "metadata": {},
   "source": [
    "![image](https://raw.githubusercontent.com/baojiweicn/Thinking-in-Coroutines/master/imgs/async_callbacks.png)"
   ]
  },
  {
   "cell_type": "code",
   "execution_count": null,
   "metadata": {},
   "outputs": [],
   "source": [
    "import datetime\n",
    "import asyncio\n",
    "import time\n",
    "\n",
    "\n",
    "def anything(i):\n",
    "    print(i, datetime.datetime.now())\n",
    "    time.sleep(i)\n",
    "\n",
    "\n",
    "if __name__ == '__main__':\n",
    "    loop = asyncio.get_event_loop()\n",
    "    loop.call_later(2, loop.stop)\n",
    "    for i in range(1, 4):\n",
    "        loop.call_soon(anything, i)\n",
    "    try:\n",
    "        loop.run_forever()\n",
    "    finally:\n",
    "        loop.close()\n",
    "        print('close', datetime.datetime.now())"
   ]
  },
  {
   "cell_type": "code",
   "execution_count": null,
   "metadata": {},
   "outputs": [],
   "source": [
    "# -*- coding: utf-8 -*-\n",
    "\n",
    "import asyncio\n",
    "import datetime\n",
    "\n",
    "\n",
    "async def anything(i):\n",
    "    print(i, datetime.datetime.now())\n",
    "    await asyncio.sleep(i)\n",
    "\n",
    "\n",
    "if __name__ == '__main__':\n",
    "    loop = asyncio.get_event_loop()\n",
    "    loop.call_later(2, loop.stop)\n",
    "    for i in range(1, 4):\n",
    "        loop.create_task(anything(i))\n",
    "    try:\n",
    "        loop.run_forever()\n",
    "    finally:\n",
    "        loop.close()\n",
    "        print('close', datetime.datetime.now())"
   ]
  },
  {
   "cell_type": "markdown",
   "metadata": {},
   "source": [
    "![image](https://github.com/baojiweicn/Thinking-in-Coroutines/blob/master/imgs/event_loop.png?raw=true)"
   ]
  },
  {
   "cell_type": "code",
   "execution_count": null,
   "metadata": {},
   "outputs": [],
   "source": [
    "from asyncio import futures\n",
    "\n",
    "\n",
    "class Task(futures.Future):\n",
    "    def __init__(self, loop=None):\n",
    "        super().__init__(loop=loop)\n",
    "        self.count = 0\n",
    "        self._loop.call_soon(self._step)\n",
    "\n",
    "    def _step(self):\n",
    "        try:\n",
    "            result = next(self._coro)\n",
    "        except StopIteration as exc:\n",
    "            self.set_result(exc.value)\n",
    "        except BaseException as exc:\n",
    "            self.set_exception(exc)\n",
    "        else:\n",
    "            self.count += 1\n",
    "            self._loop.call_soon(self._step)"
   ]
  },
  {
   "cell_type": "markdown",
   "metadata": {},
   "source": [
    "![image](https://raw.githubusercontent.com/baojiweicn/Thinking-in-Coroutines/master/imgs/explain_of_asyncio.png)"
   ]
  },
  {
   "cell_type": "markdown",
   "metadata": {},
   "source": [
    "## Exception"
   ]
  },
  {
   "cell_type": "code",
   "execution_count": null,
   "metadata": {},
   "outputs": [],
   "source": [
    "import asyncio\n",
    "import datetime\n",
    "\n",
    "\n",
    "async def anything(i):\n",
    "    print(i, datetime.datetime.now())\n",
    "    await asyncio.sleep(i)\n",
    "\n",
    "\n",
    "if __name__ == '__main__':\n",
    "    loop = asyncio.get_event_loop()\n",
    "    task = loop.create_task(anything('g'))\n",
    "    try:\n",
    "        result = loop.run_until_complete(task)\n",
    "    except TypeError:\n",
    "        print('Type error: ', task.exception())\n",
    "    else:\n",
    "        print(*result)\n",
    "    finally:\n",
    "        loop.close()\n",
    "        print('close', datetime.datetime.now())"
   ]
  },
  {
   "cell_type": "markdown",
   "metadata": {},
   "source": [
    "## Task Result"
   ]
  },
  {
   "cell_type": "code",
   "execution_count": null,
   "metadata": {},
   "outputs": [],
   "source": [
    "import asyncio\n",
    "import datetime\n",
    "\n",
    "\n",
    "async def anything(i):\n",
    "    print(i, datetime.datetime.now())\n",
    "    await asyncio.sleep(i)\n",
    "\n",
    "\n",
    "if __name__ == '__main__':\n",
    "    loop = asyncio.get_event_loop()\n",
    "    task = loop.create_task(anything(3))\n",
    "    try:\n",
    "        result = loop.run_until_complete(task)\n",
    "        print(*result)\n",
    "    finally:\n",
    "        loop.close()\n",
    "        print('close', datetime.datetime.now())"
   ]
  },
  {
   "cell_type": "code",
   "execution_count": null,
   "metadata": {},
   "outputs": [],
   "source": [
    "# -*- coding: utf-8 -*-\n",
    "\n",
    "import asyncio\n",
    "import datetime\n",
    "\n",
    "\n",
    "async def anything(i):\n",
    "    print(i, datetime.datetime.now())\n",
    "    await asyncio.sleep(i)\n",
    "\n",
    "\n",
    "if __name__ == '__main__':\n",
    "    loop = asyncio.get_event_loop()\n",
    "    tasks = [loop.create_task(anything(i)) for i in range(1,4)]\n",
    "    try:\n",
    "        loop.run_until_complete(asyncio.wait(tasks))\n",
    "        for task in tasks:\n",
    "            print(*task.result())\n",
    "    finally:\n",
    "        loop.close()\n",
    "        print('close', datetime.datetime.now())"
   ]
  },
  {
   "cell_type": "markdown",
   "metadata": {},
   "source": [
    "## Usages"
   ]
  },
  {
   "cell_type": "markdown",
   "metadata": {},
   "source": [
    "### 1. Flask Video Stream"
   ]
  },
  {
   "cell_type": "code",
   "execution_count": null,
   "metadata": {},
   "outputs": [],
   "source": [
    "from flask import Flask, render_template, Response\n",
    "from camera import Camera\n",
    "\n",
    "app = Flask(__name__)\n",
    "\n",
    "@app.route('/')\n",
    "def index():\n",
    "    return render_template('index.html')\n",
    "\n",
    "def gen(camera):\n",
    "    while True:\n",
    "        frame = camera.get_frame()\n",
    "        yield (b'--frame\\r\\n'\n",
    "               b'Content-Type: image/jpeg\\r\\n\\r\\n' + frame + b'\\r\\n')\n",
    "\n",
    "@app.route('/video_feed')\n",
    "def video_feed():\n",
    "    return Response(gen(Camera()),\n",
    "                    mimetype='multipart/x-mixed-replace; boundary=frame')\n",
    "\n",
    "if __name__ == '__main__':\n",
    "    app.run(host='0.0.0.0', debug=True)"
   ]
  },
  {
   "cell_type": "markdown",
   "metadata": {},
   "source": [
    "### 2. websockets"
   ]
  },
  {
   "cell_type": "code",
   "execution_count": null,
   "metadata": {},
   "outputs": [],
   "source": []
  }
 ],
 "metadata": {
  "kernelspec": {
   "display_name": "Python 3",
   "language": "python",
   "name": "python3"
  },
  "language_info": {
   "codemirror_mode": {
    "name": "ipython",
    "version": 3
   },
   "file_extension": ".py",
   "mimetype": "text/x-python",
   "name": "python",
   "nbconvert_exporter": "python",
   "pygments_lexer": "ipython3",
   "version": "3.5.2"
  }
 },
 "nbformat": 4,
 "nbformat_minor": 2
}
